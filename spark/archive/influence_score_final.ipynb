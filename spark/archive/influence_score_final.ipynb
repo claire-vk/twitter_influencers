{
 "cells": [
  {
   "cell_type": "markdown",
   "metadata": {},
   "source": [
    "##Final Code for Influencers Dataframe"
   ]
  },
  {
   "cell_type": "code",
   "execution_count": 2,
   "metadata": {},
   "outputs": [],
   "source": [
    "ACCESS_KEY = \"xxx\"\n",
    "SECRET_KEY = \"xxx\".replace(\"/\", \"%2F\")\n",
    "AWS_BUCKET_NAME = \"project4capstones3\"\n",
    "MOUNT_NAME = \"twitter_246821242\"\n",
    "\n",
    "dbutils.fs.mount(\"s3a://%s:%s@%s\" % (ACCESS_KEY, SECRET_KEY, AWS_BUCKET_NAME), \"/mnt/%s\" % MOUNT_NAME)\n",
    "\n",
    "display(dbutils.fs.ls(\"/mnt/%s\" % MOUNT_NAME))\n",
    "\n",
    "import json\n",
    "# input = sc.textFile(\"/mnt/twitter/2017/06/*/*/project*\")\n",
    "data = sqlContext.read.json(\"/mnt/twitter/2017/06/*/*/project*\")"
   ]
  },
  {
   "cell_type": "code",
   "execution_count": 3,
   "metadata": {},
   "outputs": [],
   "source": [
    "df = data.toPandas()"
   ]
  },
  {
   "cell_type": "code",
   "execution_count": 4,
   "metadata": {},
   "outputs": [],
   "source": [
    "##### FILTER df with appropriate features #####\n",
    "features_of_interest = ['user_followers_count', 'user_friends_count', 'user_statuses_count', 'rt_status_retweet_count',\n",
    "                        'user_listed_count', 'status_num_mentions', 'status_retweet_count', 'user_name', 'user_img_url',\n",
    "                        'user_id', 'searched_names', 'status_sentMag', 'status_sentScore', 'status_text', 'rt_status_favorite_count']\n",
    "\n",
    "df_reduced = df[features_of_interest]\n",
    "\n",
    "# drop missing values\n",
    "df_reduced = df_reduced.dropna()"
   ]
  },
  {
   "cell_type": "code",
   "execution_count": 5,
   "metadata": {},
   "outputs": [],
   "source": [
    "##### CONVERT numeric features from string to numeric #####\n",
    "import pandas as pd\n",
    "\n",
    "# variables are unicode. Need to change a few of them to numeric data types\n",
    "numeric_features = ['user_followers_count', 'user_friends_count', 'user_statuses_count', 'rt_status_retweet_count', \n",
    "                    'status_num_mentions', 'status_retweet_count', 'user_listed_count', 'status_sentMag', 'status_sentScore', 'rt_status_favorite_count']\n",
    "\n",
    "# replace None by 0 for numeric features\n",
    "df_reduced[numeric_features] = df_reduced[numeric_features].replace('None',0)\n",
    "\n",
    "df_reduced[numeric_features] = df_reduced[numeric_features].convert_objects(convert_numeric=True)"
   ]
  },
  {
   "cell_type": "markdown",
   "metadata": {},
   "source": [
    "#Influence Score"
   ]
  },
  {
   "cell_type": "code",
   "execution_count": 7,
   "metadata": {},
   "outputs": [],
   "source": [
    "##### CREATE new features to calculate influence score #####\n",
    "### REACH ###\n",
    "# follower_count\n",
    "# normalize followers_count\n",
    "df_reduced['user_followers_count'] = [float(i)/max(df_reduced['user_followers_count']) for i in df_reduced['user_followers_count']]\n",
    "\n",
    "# ratio_followers_following\n",
    "df_reduced['ratio_followers_following'] = df_reduced['user_followers_count'] /  (df_reduced['user_friends_count']+1) + 10\n",
    "\n",
    "# reputation\n",
    "df_reduced['reputation'] = (df_reduced['user_followers_count'] * df_reduced['user_statuses_count']) / (df_reduced['user_friends_count']+1) + 10\n",
    "\n",
    "# listed_count\n",
    "df_reduced['listed_count'] = [float(i)/max(df_reduced['user_listed_count']) for i in df_reduced['user_listed_count']]\n",
    "\n",
    "\n",
    "### RESONANCE #####\n",
    "# total_count = len(df_reduced)\n",
    "# mentions_received\n",
    "df_reduced['mentions_received'] = [float(i)/max(df_reduced['status_num_mentions']) for i in df_reduced['status_num_mentions']]\n",
    "\n",
    "# retweets_received\n",
    "df_reduced['retweets_received'] = [float(i)/max(df_reduced['rt_status_retweet_count']) for i in df_reduced['rt_status_retweet_count']]\n",
    "\n",
    "\n",
    "### ENGAGEMENT ###\n",
    "# mentions_ratio\n",
    "df_reduced['mentions_ratio'] = df_reduced['status_num_mentions'] / (df_reduced['user_statuses_count'] +1) +1\n",
    "\n",
    "# retweets_given_ratio\n",
    "df_reduced['retweets_given_ratio'] = df_reduced['status_retweet_count'] / (df_reduced['user_statuses_count'] +1) +1\n",
    "\n",
    "#number_of_tweets\n",
    "df_reduced['number_of_tweets'] = [float(i)/max(df_reduced['user_statuses_count']) for i in df_reduced['user_statuses_count']]"
   ]
  },
  {
   "cell_type": "code",
   "execution_count": 8,
   "metadata": {},
   "outputs": [],
   "source": [
    "# give weight to the variables and combine them under 4 categories (Popularity, Activity, Share-ability, Engage-ability)\n",
    "# the score will be out of 10 and we will have a column \"influence_score\" averaging the 4 scores\n",
    " \n",
    "df_final = pd.DataFrame()\n",
    "\n",
    "### Influence Score\n",
    "df_final['Influencer_Score'] = df_reduced['user_followers_count'] * 0.741877 + df_reduced['ratio_followers_following'] * 0.331026 +\\\n",
    "                               df_reduced['reputation'] * 0.320914 + df_reduced['listed_count'] * 1.000000 +\\\n",
    "                               df_reduced['mentions_received'] * 0.613449 + df_reduced['retweets_received'] * 0.435626 +\\\n",
    "                               df_reduced['number_of_tweets'] * 0.273192 + df_reduced['mentions_ratio'] * 0.189703 +\\\n",
    "                               df_reduced['retweets_given_ratio'] * 0.185087\n",
    "\n",
    "# Turn influence score into float from 1 to 10\n",
    "df_final['Influencer_Score'] = [round((float(i)/max(df_final['Influencer_Score'])) * 10,2) for i in df_final['Influencer_Score']] # use 1-10 range for scores\n",
    "\n",
    "### Sentiment score\n",
    "df_final['Sentiment_Score'] = df_reduced['status_sentScore']\n",
    "df_final['Sentiment_Magnitude'] = df_reduced['status_sentMag']"
   ]
  },
  {
   "cell_type": "code",
   "execution_count": 9,
   "metadata": {},
   "outputs": [],
   "source": [
    "### adding extra columns for Flask app\n",
    "df_final['User_ID'] = df_reduced['user_id']\n",
    "df_final['User_name'] = df_reduced['user_name']\n",
    "df_final['Number_of_Followers'] = df['user_followers_count'] # IMPORTANT: NEED TO USE df['user_followers_count'] here because df_reduced['user_followers_count']\n",
    "# has been transformed\n",
    "df_final['Number_of_Retweets'] = df_reduced['rt_status_retweet_count']\n",
    "df_final['Number_of_Likes'] = df_reduced['rt_status_favorite_count']\n",
    "df_final['Img_URL'] = df_reduced['user_img_url']\n",
    "df_final['Searched_Names'] = df_reduced['searched_names']\n",
    "df_final['Tweets'] = df_reduced['status_text']"
   ]
  },
  {
   "cell_type": "code",
   "execution_count": 10,
   "metadata": {},
   "outputs": [],
   "source": [
    "df_final = df_final.dropna()"
   ]
  },
  {
   "cell_type": "code",
   "execution_count": 11,
   "metadata": {},
   "outputs": [],
   "source": [
    "#grouping by user name and searched names. This way, we make sure to not mix the tweets associated with different searched names\n",
    "# when calculating the influence and  sentiment scores\n",
    "df_final = df_final.groupby(['User_name', 'Searched_Names']).agg({'Influencer_Score': 'mean',\n",
    "                                                                  'Img_URL': 'first',\n",
    "                                                                  'User_ID': 'first',\n",
    "                                                                  'Tweets': lambda col: ''.join(col),\n",
    "                                                                  'Sentiment_Score': 'mean',\n",
    "                                                                  'Sentiment_Magnitude': 'mean', \n",
    "                                                                 'Number_of_Followers':'max', \n",
    "                                                                 'Number_of_Retweets':'max', \n",
    "                                                                 'Number_of_Likes':'max'})"
   ]
  },
  {
   "cell_type": "code",
   "execution_count": 12,
   "metadata": {},
   "outputs": [],
   "source": [
    "#resetting index\n",
    "df_final = df_final.reset_index()"
   ]
  },
  {
   "cell_type": "code",
   "execution_count": 13,
   "metadata": {},
   "outputs": [],
   "source": [
    "##### CREATE labels for influence score (after we have aggregated by User Name and calculated the mean)\n",
    "# Top influencer if score is >=8, Medium-Tier influencer if score is between 6 & 8, Micro influencer is score is between 4 & 6 , else he/she is not an influencer\n",
    "for i in range(len(df_final)):\n",
    "  if df_final.loc[i, 'Influencer_Score'] >= 8:\n",
    "    df_final.loc[i, 'Influencer_Label'] = 'Top Influencer'\n",
    "  elif (df_final.loc[i, 'Influencer_Score'] < 8) & (df_final.loc[i, 'Influencer_Score'] >= 6):\n",
    "    df_final.loc[i, 'Influencer_Label'] = 'Mid-Tier Influencer'\n",
    "  elif (df_final.loc[i, 'Influencer_Score'] < 6) & (df_final.loc[i, 'Influencer_Score'] >= 3):\n",
    "    df_final.loc[i, 'Influencer_Label'] = 'Micro Influencer'\n",
    "  else:\n",
    "    df_final.loc[i, 'Influencer_Label'] = \"Not an Influencer\""
   ]
  },
  {
   "cell_type": "code",
   "execution_count": 14,
   "metadata": {},
   "outputs": [],
   "source": [
    "##### CREATE labels for sentiment score (after we have aggregated by User Name and calculated the mean)\n",
    "for i in range(len(df_final)):\n",
    "  if (df_final.loc[i, 'Sentiment_Score'] > -0.4) & (df_final.loc[i, 'Sentiment_Score'] < 0.4):\n",
    "    df_final.loc[i, 'Sentiment_Score'] = 'Neutral'\n",
    "  elif (df_final.loc[i, 'Sentiment_Score'] <= -0.4) & (df_final.loc[i, 'Sentiment_Magnitude'] < 3):\n",
    "    df_final.loc[i, 'Sentiment_Score'] = 'Negative'\n",
    "  elif (df_final.loc[i, 'Sentiment_Score'] >= 0.4) & (df_final.loc[i, 'Sentiment_Magnitude'] < 3):\n",
    "    df_final.loc[i, 'Sentiment_Score'] = 'Positive'\n",
    "  elif (df_final.loc[i, 'Sentiment_Score'] <= -0.4) & (df_final.loc[i, 'Sentiment_Magnitude'] >= 3):\n",
    "    df_final.loc[i, 'Sentiment_Score'] = 'Very Negative'\n",
    "  elif (df_final.loc[i, 'Sentiment_Score'] >= 0.4) & (df_final.loc[i, 'Sentiment_Magnitude'] >= 3):\n",
    "    df_final.loc[i, 'Sentiment_Score'] = 'Very Positive'"
   ]
  },
  {
   "cell_type": "code",
   "execution_count": 15,
   "metadata": {},
   "outputs": [],
   "source": [
    "df_final = df_final.drop('Sentiment_Magnitude', 1)"
   ]
  },
  {
   "cell_type": "code",
   "execution_count": 16,
   "metadata": {},
   "outputs": [],
   "source": [
    "# reordering the columns & sorting by influencer score\n",
    "df_final = df_final[['Img_URL', 'User_name', 'Number_of_Followers', 'Number_of_Retweets', 'Number_of_Likes', 'Influencer_Score', 'Sentiment_Score', 'Searched_Names', 'Tweets',  'Influencer_Label', 'User_ID']].sort_values('Influencer_Score', ascending = False)"
   ]
  },
  {
   "cell_type": "code",
   "execution_count": 17,
   "metadata": {},
   "outputs": [],
   "source": [
    "df_final"
   ]
  },
  {
   "cell_type": "code",
   "execution_count": 18,
   "metadata": {},
   "outputs": [],
   "source": [
    "from pyspark.sql.types import StructField, StructType, StringType\n",
    "from pyspark.sql import Row\n",
    "from pyspark.sql.types import *\n",
    "from pyspark.sql import SQLContext\n",
    "import json"
   ]
  },
  {
   "cell_type": "code",
   "execution_count": 19,
   "metadata": {},
   "outputs": [],
   "source": [
    "sqlCtx = SQLContext(sc)\n",
    "influencer_df=sqlCtx.createDataFrame(df_final)\n",
    "type(influencer_df)"
   ]
  },
  {
   "cell_type": "code",
   "execution_count": 20,
   "metadata": {},
   "outputs": [],
   "source": [
    "influencer_df.write.saveAsTable('influencer_df', mode = 'overwrite')"
   ]
  },
  {
   "cell_type": "code",
   "execution_count": 21,
   "metadata": {},
   "outputs": [],
   "source": [
    "influencer_df.columns"
   ]
  },
  {
   "cell_type": "code",
   "execution_count": 22,
   "metadata": {},
   "outputs": [],
   "source": [
    ""
   ]
  },
  {
   "cell_type": "code",
   "execution_count": 23,
   "metadata": {},
   "outputs": [],
   "source": [
    ""
   ]
  }
 ],
 "metadata": {
  "name": "Test",
  "notebookId": 3.708479553025612E15
 },
 "nbformat": 4,
 "nbformat_minor": 0
}