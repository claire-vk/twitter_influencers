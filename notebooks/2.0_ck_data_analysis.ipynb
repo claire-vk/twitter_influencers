{
 "cells": [
  {
   "cell_type": "code",
   "execution_count": 2,
   "metadata": {
    "collapsed": true
   },
   "outputs": [],
   "source": [
    "from __future__ import print_function\n",
    "\n",
    "import sys\n",
    "import re\n",
    "from operator import add \n",
    "import pandas as pd\n",
    "from pyspark.sql.types import StructField, StructType, StringType\n",
    "from pyspark.sql import Row\n",
    "from pyspark.sql.types import *\n",
    "from pyspark.sql import SQLContext\n",
    "import json\n",
    "import boto\n",
    "import boto3\n",
    "from boto.s3.key import Key\n",
    "import boto.s3.connection\n",
    "from pyspark.sql import SparkSession\n",
    "from pyspark import SparkContext, SparkConf"
   ]
  },
  {
   "cell_type": "code",
   "execution_count": null,
   "metadata": {},
   "outputs": [],
   "source": [
    "conf = SparkConf().setAppName(\"first\")\n",
    "#sc = SparkContext(conf=conf)\n",
    "spark._jsc.hadoopConfiguration().set(\"fs.s3n.awsAccessKeyId\",'xxx')\n",
    "spark._jsc.hadoopConfiguration().set(\"fs.s3n.awsSecretAccessKey\",'xxx')\n",
    "config_dict = {\"fs.s3n.awsAccessKeyId\":\"xxx\",\n",
    "               \"fs.s3n.awsSecretAccessKey\":\"xxx\"}\n",
    "bucket = \"project4capstones3\"\n",
    "prefix = \"/2017/06/16//14/project*\"\n",
    "filename = \"s3n://{}/{}\".format(bucket, prefix)\n",
    "warehouse_location = 'spark-warehouse'\n",
    "rdd = sc.hadoopFile(filename,\n",
    "            'org.apache.hadoop.mapred.TextInputFormat',\n",
    "            'org.apache.hadoop.io.Text',\n",
    "            'org.apache.hadoop.io.LongWritable',\n",
    "            conf=config_dict)\n",
    "spark_sess = SparkSession \\\n",
    "        .builder \\\n",
    "        .appName(\"Python Spark SQL Hive integration example\") \\\n",
    "        .config(\"spark.sql.warehouse.dir\", warehouse_location) \\\n",
    "        .enableHiveSupport() \\\n",
    "        .getOrCreate()\n",
    "# spark_sess = SparkSession.builder.appName(\"PythonWordCount\").getOrCreate()\n",
    "#spark_sess.read.json(rdd).show()\n",
    "#spark_sess.read.json(rdd.map(lambda x: x[1])).show()"
   ]
  },
  {
   "cell_type": "code",
   "execution_count": 41,
   "metadata": {
    "collapsed": false
   },
   "outputs": [],
   "source": [
    "df = spark_sess.read.json(rdd.map(lambda x: x[1]))"
   ]
  },
  {
   "cell_type": "code",
   "execution_count": 42,
   "metadata": {
    "collapsed": false
   },
   "outputs": [],
   "source": [
    "data_rm_na = df.filter(df['status_id']!='None')"
   ]
  },
  {
   "cell_type": "code",
   "execution_count": 43,
   "metadata": {
    "collapsed": false
   },
   "outputs": [],
   "source": [
    "features_of_interest = ['user_followers_count', 'user_friends_count', 'user_statuses_count', 'rt_status_retweet_count', 'rt_status_favorite_count',\n",
    "                        'rt_status_entities_user_mentions','user_listed_count', 'status_num_mentions', 'status_retweet_count', 'status_geo',\n",
    "                        'status_hashtags','user_name', 'user_loc', 'status_text', 'user_desc', 'user_img_url', 'user_id', 'searched_names', \n",
    "                        'status_sentMag', 'status_sentScore']"
   ]
  },
  {
   "cell_type": "code",
   "execution_count": 44,
   "metadata": {
    "collapsed": true
   },
   "outputs": [],
   "source": [
    "df_reduce= data_rm_na.select(features_of_interest)\n",
    "df_reduce = df_reduce.withColumn(\"user_followers_count\", df_reduce[\"user_followers_count\"].cast(IntegerType()))\n",
    "df_reduce = df_reduce.withColumn(\"user_friends_count\", df_reduce[\"user_friends_count\"].cast(IntegerType()))\n",
    "df_reduce = df_reduce.withColumn(\"user_statuses_count\", df_reduce[\"user_statuses_count\"].cast(IntegerType()))\n",
    "df_reduce = df_reduce.withColumn(\"rt_status_retweet_count\", df_reduce[\"rt_status_retweet_count\"].cast(IntegerType()))\n",
    "df_reduce = df_reduce.withColumn(\"user_listed_count\", df_reduce[\"user_listed_count\"].cast(IntegerType()))\n",
    "df_reduce = df_reduce.withColumn(\"status_num_mentions\", df_reduce[\"status_num_mentions\"].cast(IntegerType()))\n",
    "df_reduce = df_reduce.withColumn(\"status_retweet_count\", df_reduce[\"status_retweet_count\"].cast(IntegerType()))\n",
    "# df_reduce = df_reduce.withColumn(“status_sentMag”, df_reduce[“status_sentMag”].cast(DoubleType()))\n",
    "# df_reduce = df_reduce.withColumn(“status_sentScore”, df_reduce[“status_sentScore”].cast(DoubleType()))\n",
    "df_reduce = df_reduce.withColumn(\"rt_status_favorite_count\", df_reduce[\"rt_status_favorite_count\"].cast(IntegerType()))"
   ]
  },
  {
   "cell_type": "code",
   "execution_count": 45,
   "metadata": {
    "collapsed": false
   },
   "outputs": [],
   "source": [
    "# for i in numeric_features:\n",
    "#     print(i)\n",
    "#     df_reduced_num = df_reduced_num.withColumn(i, df_reduced_num[i].cast('float'))\n",
    "# #     df_reduced_num.select(df_reduced_num.user_followers_count.cast('float'))"
   ]
  },
  {
   "cell_type": "code",
   "execution_count": 46,
   "metadata": {
    "collapsed": false,
    "scrolled": true
   },
   "outputs": [],
   "source": [
    "max_user_followers_count = df_reduce.select('user_followers_count').rdd.flatMap(list).max()\n",
    "\n",
    "\n",
    "df_reduce = df_reduce.withColumn('user_followers_count', df_reduce['user_followers_count'] / max_user_followers_count)\n",
    "### reputation ####\n",
    "df_reduce = df_reduce.withColumn('reputation',(df_reduce.user_followers_count*df_reduce.user_statuses_count)/(df_reduce.user_friends_count+1)+10)\n",
    "#listed_count rescale\n",
    "max_listed_count = df_reduce.select('user_listed_count').rdd.flatMap(list).max()\n",
    "df_reduce = df_reduce.withColumn('user_listed_count',df_reduce.user_listed_count/max_listed_count)\n",
    "\n",
    "### RESONANCE #####\n",
    "#status_num_count rescale \n",
    "max_status_num_mentions  = df_reduce.select('status_num_mentions').rdd.flatMap(list).max()\n",
    "df_reduce = df_reduce.withColumn('status_num_mentions',df_reduce.status_num_mentions/max_status_num_mentions)\n",
    "\n",
    "# retweets_received rescale\n",
    "max_retweets_received  = df_reduce.select('rt_status_retweet_count').rdd.flatMap(list).max()\n",
    "df_reduce = df_reduce.withColumn('retweets_received',df_reduce.rt_status_retweet_count/max_retweets_received)\n",
    "\n",
    "### ENGAGEMENT ###\n",
    "# mentions_ratio\n",
    "df_reduce= df_reduce.withColumn('mentions_ratio',df_reduce.status_num_mentions/(df_reduce.user_statuses_count+1)+1)\n",
    "\n",
    "# retweets_given_ratio\n",
    "df_reduce= df_reduce.withColumn('retweets_given_ratio',df_reduce.status_retweet_count/(df_reduce.user_statuses_count+1)+1)\n",
    "\n",
    "#number_of_tweets rescale\n",
    "max_user_statuses_count  = df_reduce.select('user_statuses_count').rdd.flatMap(list).max()\n",
    "df_reduce = df_reduce.withColumn('number_of_tweets',df_reduce.user_statuses_count/max_user_statuses_count)"
   ]
  },
  {
   "cell_type": "code",
   "execution_count": 27,
   "metadata": {
    "collapsed": false
   },
   "outputs": [
    {
     "name": "stdout",
     "output_type": "stream",
     "text": [
      "root\n",
      " |-- user_followers_count: double (nullable = true)\n",
      " |-- user_friends_count: integer (nullable = true)\n",
      " |-- user_statuses_count: integer (nullable = true)\n",
      " |-- rt_status_retweet_count: integer (nullable = true)\n",
      " |-- rt_status_favorite_count: integer (nullable = true)\n",
      " |-- rt_status_entities_user_mentions: array (nullable = true)\n",
      " |    |-- element: string (containsNull = true)\n",
      " |-- user_listed_count: double (nullable = true)\n",
      " |-- status_num_mentions: double (nullable = true)\n",
      " |-- status_retweet_count: integer (nullable = true)\n",
      " |-- status_geo: string (nullable = true)\n",
      " |-- status_hashtags: array (nullable = true)\n",
      " |    |-- element: string (containsNull = true)\n",
      " |-- user_name: string (nullable = true)\n",
      " |-- user_loc: string (nullable = true)\n",
      " |-- status_text: string (nullable = true)\n",
      " |-- user_desc: string (nullable = true)\n",
      " |-- user_img_url: string (nullable = true)\n",
      " |-- user_id: string (nullable = true)\n",
      " |-- searched_names: string (nullable = true)\n",
      " |-- status_sentMag: double (nullable = true)\n",
      " |-- status_sentScore: double (nullable = true)\n",
      " |-- reputation: double (nullable = true)\n",
      " |-- retweets_received: double (nullable = true)\n",
      " |-- mentions_ratio: double (nullable = true)\n",
      " |-- retweets_given_ratio: double (nullable = true)\n",
      " |-- number_of_tweets: double (nullable = true)\n",
      "\n"
     ]
    }
   ],
   "source": [
    ""
   ]
  },
  {
   "cell_type": "code",
   "execution_count": 28,
   "metadata": {
    "collapsed": false
   },
   "outputs": [
    {
     "data": {
      "text/plain": [
       "pyspark.sql.dataframe.DataFrame"
      ]
     },
     "execution_count": 28,
     "metadata": {},
     "output_type": "execute_result"
    }
   ],
   "source": [
    "type(df_reduce)"
   ]
  },
  {
   "cell_type": "code",
   "execution_count": 14,
   "metadata": {
    "collapsed": false
   },
   "outputs": [
    {
     "name": "stdout",
     "output_type": "stream",
     "text": [
      "+--------+---------+-----------+\n",
      "|database|tableName|isTemporary|\n",
      "+--------+---------+-----------+\n",
      "+--------+---------+-----------+\n",
      "\n"
     ]
    }
   ],
   "source": [
    "spark.sql(\"SHOW TABLES\").show()"
   ]
  },
  {
   "cell_type": "code",
   "execution_count": 32,
   "metadata": {
    "collapsed": true
   },
   "outputs": [],
   "source": [
    "df_reduce.createOrReplaceTempView(\"twitterHive\")"
   ]
  },
  {
   "cell_type": "code",
   "execution_count": 33,
   "metadata": {
    "collapsed": false
   },
   "outputs": [
    {
     "name": "stdout",
     "output_type": "stream",
     "text": [
      "+--------+-----------+-----------+\n",
      "|database|  tableName|isTemporary|\n",
      "+--------+-----------+-----------+\n",
      "|        |twitterhive|       true|\n",
      "+--------+-----------+-----------+\n",
      "\n"
     ]
    }
   ],
   "source": [
    "spark.sql(\"SHOW TABLES\").show()"
   ]
  },
  {
   "cell_type": "code",
   "execution_count": 34,
   "metadata": {
    "collapsed": false
   },
   "outputs": [
    {
     "name": "stdout",
     "output_type": "stream",
     "text": [
      "+--------------------+------------------+-------------------+-----------------------+------------------------+--------------------------------+--------------------+-------------------+--------------------+----------+--------------------+------------------+--------------------+--------------------+--------------------+--------------------+------------------+--------------+--------------+----------------+------------------+--------------------+------------------+--------------------+--------------------+\n",
      "|user_followers_count|user_friends_count|user_statuses_count|rt_status_retweet_count|rt_status_favorite_count|rt_status_entities_user_mentions|   user_listed_count|status_num_mentions|status_retweet_count|status_geo|     status_hashtags|         user_name|            user_loc|         status_text|           user_desc|        user_img_url|           user_id|searched_names|status_sentMag|status_sentScore|        reputation|   retweets_received|    mentions_ratio|retweets_given_ratio|    number_of_tweets|\n",
      "+--------------------+------------------+-------------------+-----------------------+------------------------+--------------------------------+--------------------+-------------------+--------------------+----------+--------------------+------------------+--------------------+--------------------+--------------------+--------------------+------------------+--------------+--------------+----------------+------------------+--------------------+------------------+--------------------+--------------------+\n",
      "|1.440010842434578...|               214|                976|                   null|                    null|                              []|1.681520094165125...|                0.0|                   0|      None|                  []|  J. Michael Hurst|      Cincinnati, OH|whoa... https://t...|Trademark and Int...|http://pbs.twimg....|         102549500|        Amazon|           0.1|             0.1|10.000653697945216|                null|               1.0|                 1.0|0.001122237668321...|\n",
      "|0.003111552839927...|              1088|              70428|                      1|                       0|                              []|0.001513368084748...|                0.1|                   0|      None|                  []|    xxxtensioncord|        Georgia, USA|RT @JoshTweets0: ...|                None|http://pbs.twimg....|         226741395|        Amazon|           0.5|             0.2|10.201230893857113|1.158211721102617...| 1.000001419869656|                 1.0| 0.08098048617267513|\n",
      "|2.512960097581911...|                93|                896|                   null|                    null|                              []|0.002858584160080713|                0.0|                   0|      None|                  []|    Naren Chelluri|   San Francisco, CA|Amazon to Buy Who...|Director, Product...|http://pbs.twimg....|          40218668|        Amazon|           0.2|             0.2|10.002395332178121|                null|               1.0|                 1.0|0.001030250974196...|\n",
      "|6.127104957025559E-4|               736|               4386|                   null|                    null|                              []| 0.00924836051790819|                0.0|                   0|      None|                  []|       Ken Wattana|       Palo Alto, CA|Somewhere in Bent...|Marketing @forger...|http://pbs.twimg....|         592249034|        Amazon|           0.7|            -0.7|10.003646334103326|                null|               1.0|                 1.0|0.005043170505386...|\n",
      "|0.040981014445285235|              1198|              21777|                     72|                     190|                              []|0.001513368084748...|                0.1|                   0|      None|                  []|    Tyler Jenkins.| Greenwich CT / B...|RT @barstoolsport...|That Kid. #Jaguar...|http://pbs.twimg....|          53215171|        Amazon|           0.4|             0.4|10.744323229003317|0.008339124391938846|1.0000045917898797|                 1.0|  0.0250399279744185|\n",
      "|0.058506793462915485|              3242|               9672|                   null|                    null|                              []|0.029426601647889693|                0.2|                   0|      None|                  []|       marvin chow|  san francisco, usa|Whoah. Shit just ...|VP Product Market...|http://pbs.twimg....|          16054093|        Amazon|           1.1|             0.0|10.174492046368584|                null|1.0000206761087562|                 1.0| 0.01112119131967561|\n",
      "|0.003196259360070476|               736|               3570|                   3462|                    4038|                              []|0.009752816546157726|                0.1|                   0|      None|                  []|          Dan Holm|                None|RT @dkberman: Ama...|Modern marketer @...|http://pbs.twimg....|          13103402|        Amazon|           0.6|             0.3|10.015482558908348|  0.4009728978457262|1.0000280033604032|                 1.0|0.004104906225314...|\n",
      "|0.001137890920590461|               454|              12953|                     72|                     190|                              []|8.407600470825626E-4|                0.1|                   0|      None|                  []|        ChrissyBoy|                None|RT @barstoolsport...|                None|http://pbs.twimg....|        2226112261|        Amazon|           0.4|             0.4| 10.03239362877892|0.008339124391938846|1.0000077196232824|                 1.0|0.014893795612464657|\n",
      "|0.001109655413876...|               354|               2382|                    442|                     334|                              []|0.005212712291911888|                0.1|                   0|      None|                  []|              mari|             Atlanta|RT @Forbes: Amazo...|One sad Atlanta S...|http://pbs.twimg....|         402863754|        Amazon|           0.0|             0.0|10.007445631537614|0.051192958072735696|1.0000419639110365|                 1.0|0.002738903817562...|\n",
      "|2.767079658011543E-4|               504|               9380|                     19|                      11|                              []|0.001849672103581...|                0.1|                   0|      None|[Amazon, WholeFoods]|             Karen|      Wisconsin, USA|RT @Reuters: #Ama...|Avid reader of Hi...|http://pbs.twimg....|        4438741393|        Amazon|           0.2|             0.2|10.005139644988544|0.002200602270094973|1.0000106598443663|                 1.0|0.010785439886120473|\n",
      "|1.835307936436227...|              1481|               4003|                   null|                    null|                              []|0.001513368084748...|                0.1|                   0|      None|          [giveaway]|     Trudy Spiller|Milford, Connecti...|20% Off Yoga Pant...|                None|http://pbs.twimg....|        3366715749|        Amazon|           0.4|             0.4|10.000495731286744|                null| 1.000024975024975|                 1.0|0.004602784207264...|\n",
      "|7.905941880032979E-5|               671|               1937|                   null|                    null|                              []|                 0.0|                0.0|                   0|      None|          [giveaway]|Angela Blankenship|         Jackson, OH|20% Off Grey Yoga...|Not sure there is...|http://pbs.twimg....|816694908979412992|        Amazon|           0.4|             0.4|10.000227884068774|                null|               1.0|                 1.0|0.002227227831494...|\n",
      "|0.001033419545747168|               296|              13918|                   null|                    null|                              []|5.044560282495376E-4|                0.0|                   0|      None|                  []|              Will|             Warwick|Wow thats crazy. ...|idc. #nativeameri...|http://pbs.twimg....|         100586105|        Amazon|           1.1|            -0.1|10.048428058039425|                null|               1.0|                 1.0|0.016003385110343788|\n",
      "|2.484724590867508E-4|              1282|               2886|                   null|                    null|                              []|8.407600470825626E-4|                0.0|                   0|      None|          [giveaway]|      Sherry Price|                None|20% Off Grey Yoga...|                None|http://pbs.twimg....|          41135968|        Amazon|           0.4|             0.4| 10.00055891778404|                null|               1.0|                 1.0|0.003318419990548...|\n",
      "|1.694130402864209...|                29|                 51|                   null|                    null|                              []|                 0.0|                0.0|                   0|      None|          [giveaway]|       Daniel Cruz|     Port Orange, FL|Wow! I just enter...|Entertainer, Spec...|http://pbs.twimg....|         851936227|        Amazon|           0.6|             0.1|10.000028800216848|                null|               1.0|                 1.0|5.864151750449297...|\n",
      "|4.263561513874928E-4|               172|               1461|                   null|                    null|                              []|                 0.0|                0.1|                   0|      None|                  []|       Chikondi N |          Zambia USA|@Orrieos I know! ...|Chemist  Art Love...|http://pbs.twimg....|         576478469|        Amazon|           0.6|             0.3|10.003600614665764|                null|1.0000683994528043|                 1.0| 0.00167990700145224|\n",
      "|0.001809895980393...|               311|              24688|                   1228|                    1412|                              []|8.407600470825626E-4|                0.1|                   0|      None|                  []|      Noah Johnson|Minneapolis | Pho...|RT @darrenrovell:...|                None|http://pbs.twimg....|         327178001|        Amazon|           0.5|             0.2|10.143213820397271| 0.14222839935140144| 1.000004050386812|                 1.0|0.028387093806880835|\n",
      "|6.494166544312804E-5|              1208|               3113|                   null|                    null|                              []|                 0.0|                0.0|                   0|      None|          [giveaway]|         Karen Dye|                None|30% Off Rose Gold...|                None|http://abs.twimg....|847213217092898817|        Amazon|           0.4|             0.4|10.000167215388357|                null|               1.0|                 1.0|0.003579432235127189|\n",
      "|4.461210060875752E-4|               290|               8075|                   null|                    null|                              []|0.001681520094165...|                0.1|                   0|      None|                  []|            Lauu. |       Paris, France|At Last, Jeff Bez...|                None|http://pbs.twimg....|          54213724|        Amazon|           0.4|             0.4| 10.01237947465346|                null|1.0000123823675087|                 1.0|0.009284906938211388|\n",
      "|2.795315164725946...|               307|              15012|                     37|                      24|                              []|1.681520094165125...|                0.1|                   0|      None|                  []|              Jess|                  MN|RT @scalzi: I mea...|Writer and Artist...|http://pbs.twimg....|        3340529693|        Amazon|           0.3|             0.0|10.013624438718463|0.004285383368079685| 1.000006660893892|                 1.0| 0.01726130315249899|\n",
      "+--------------------+------------------+-------------------+-----------------------+------------------------+--------------------------------+--------------------+-------------------+--------------------+----------+--------------------+------------------+--------------------+--------------------+--------------------+--------------------+------------------+--------------+--------------+----------------+------------------+--------------------+------------------+--------------------+--------------------+\n",
      "only showing top 20 rows\n",
      "\n"
     ]
    }
   ],
   "source": [
    "spark.sql(\"SELECT * FROM twitterHive\").show()"
   ]
  },
  {
   "cell_type": "code",
   "execution_count": 36,
   "metadata": {
    "collapsed": false
   },
   "outputs": [],
   "source": [
    "df_writer = pyspark.sql.DataFrameWriter(df_reduce)"
   ]
  },
  {
   "cell_type": "code",
   "execution_count": 38,
   "metadata": {
    "collapsed": false
   },
   "outputs": [
    {
     "ename": "Py4JJavaError",
     "evalue": "An error occurred while calling o833.saveAsTable.\n: org.apache.spark.SparkException: Job aborted.\n\tat org.apache.spark.sql.execution.datasources.FileFormatWriter$$anonfun$write$1.apply$mcV$sp(FileFormatWriter.scala:147)\n\tat org.apache.spark.sql.execution.datasources.FileFormatWriter$$anonfun$write$1.apply(FileFormatWriter.scala:121)\n\tat org.apache.spark.sql.execution.datasources.FileFormatWriter$$anonfun$write$1.apply(FileFormatWriter.scala:121)\n\tat org.apache.spark.sql.execution.SQLExecution$.withNewExecutionId(SQLExecution.scala:57)\n\tat org.apache.spark.sql.execution.datasources.FileFormatWriter$.write(FileFormatWriter.scala:121)\n\tat org.apache.spark.sql.execution.datasources.InsertIntoHadoopFsRelationCommand.run(InsertIntoHadoopFsRelationCommand.scala:101)\n\tat org.apache.spark.sql.execution.command.ExecutedCommandExec.sideEffectResult$lzycompute(commands.scala:58)\n\tat org.apache.spark.sql.execution.command.ExecutedCommandExec.sideEffectResult(commands.scala:56)\n\tat org.apache.spark.sql.execution.command.ExecutedCommandExec.doExecute(commands.scala:74)\n\tat org.apache.spark.sql.execution.SparkPlan$$anonfun$execute$1.apply(SparkPlan.scala:114)\n\tat org.apache.spark.sql.execution.SparkPlan$$anonfun$execute$1.apply(SparkPlan.scala:114)\n\tat org.apache.spark.sql.execution.SparkPlan$$anonfun$executeQuery$1.apply(SparkPlan.scala:135)\n\tat org.apache.spark.rdd.RDDOperationScope$.withScope(RDDOperationScope.scala:151)\n\tat org.apache.spark.sql.execution.SparkPlan.executeQuery(SparkPlan.scala:132)\n\tat org.apache.spark.sql.execution.SparkPlan.execute(SparkPlan.scala:113)\n\tat org.apache.spark.sql.execution.QueryExecution.toRdd$lzycompute(QueryExecution.scala:92)\n\tat org.apache.spark.sql.execution.QueryExecution.toRdd(QueryExecution.scala:92)\n\tat org.apache.spark.sql.execution.datasources.DataSource.writeInFileFormat(DataSource.scala:484)\n\tat org.apache.spark.sql.execution.datasources.DataSource.writeAndRead(DataSource.scala:500)\n\tat org.apache.spark.sql.execution.command.CreateDataSourceTableAsSelectCommand.run(createDataSourceTables.scala:263)\n\tat org.apache.spark.sql.execution.command.ExecutedCommandExec.sideEffectResult$lzycompute(commands.scala:58)\n\tat org.apache.spark.sql.execution.command.ExecutedCommandExec.sideEffectResult(commands.scala:56)\n\tat org.apache.spark.sql.execution.command.ExecutedCommandExec.doExecute(commands.scala:74)\n\tat org.apache.spark.sql.execution.SparkPlan$$anonfun$execute$1.apply(SparkPlan.scala:114)\n\tat org.apache.spark.sql.execution.SparkPlan$$anonfun$execute$1.apply(SparkPlan.scala:114)\n\tat org.apache.spark.sql.execution.SparkPlan$$anonfun$executeQuery$1.apply(SparkPlan.scala:135)\n\tat org.apache.spark.rdd.RDDOperationScope$.withScope(RDDOperationScope.scala:151)\n\tat org.apache.spark.sql.execution.SparkPlan.executeQuery(SparkPlan.scala:132)\n\tat org.apache.spark.sql.execution.SparkPlan.execute(SparkPlan.scala:113)\n\tat org.apache.spark.sql.execution.QueryExecution.toRdd$lzycompute(QueryExecution.scala:92)\n\tat org.apache.spark.sql.execution.QueryExecution.toRdd(QueryExecution.scala:92)\n\tat org.apache.spark.sql.DataFrameWriter.saveAsTable(DataFrameWriter.scala:404)\n\tat org.apache.spark.sql.DataFrameWriter.saveAsTable(DataFrameWriter.scala:358)\n\tat sun.reflect.NativeMethodAccessorImpl.invoke0(Native Method)\n\tat sun.reflect.NativeMethodAccessorImpl.invoke(NativeMethodAccessorImpl.java:62)\n\tat sun.reflect.DelegatingMethodAccessorImpl.invoke(DelegatingMethodAccessorImpl.java:43)\n\tat java.lang.reflect.Method.invoke(Method.java:498)\n\tat py4j.reflection.MethodInvoker.invoke(MethodInvoker.java:244)\n\tat py4j.reflection.ReflectionEngine.invoke(ReflectionEngine.java:357)\n\tat py4j.Gateway.invoke(Gateway.java:280)\n\tat py4j.commands.AbstractCommand.invokeMethod(AbstractCommand.java:132)\n\tat py4j.commands.CallCommand.execute(CallCommand.java:79)\n\tat py4j.GatewayConnection.run(GatewayConnection.java:214)\n\tat java.lang.Thread.run(Thread.java:748)\nCaused by: org.apache.spark.SparkException: Job aborted due to stage failure: Task 0 in stage 24.0 failed 1 times, most recent failure: Lost task 0.0 in stage 24.0 (TID 182, localhost, executor driver): java.io.IOException: Mkdirs failed to create file:/Users/clairevignon/DataScience/NYC_DSA/project4_capstone/capstone_project/spark/spark-warehouse/test_table/_temporary/0/_temporary/attempt_20170617195923_0024_m_000000_0 (exists=false, cwd=file:/Users/yogadude/capstone_project/Spark)\n\tat org.apache.hadoop.fs.ChecksumFileSystem.create(ChecksumFileSystem.java:455)\n\tat org.apache.hadoop.fs.ChecksumFileSystem.create(ChecksumFileSystem.java:440)\n\tat org.apache.hadoop.fs.FileSystem.create(FileSystem.java:911)\n\tat org.apache.hadoop.fs.FileSystem.create(FileSystem.java:892)\n\tat org.apache.hadoop.fs.FileSystem.create(FileSystem.java:789)\n\tat org.apache.parquet.hadoop.ParquetFileWriter.<init>(ParquetFileWriter.java:223)\n\tat org.apache.parquet.hadoop.ParquetOutputFormat.getRecordWriter(ParquetOutputFormat.java:312)\n\tat org.apache.parquet.hadoop.ParquetOutputFormat.getRecordWriter(ParquetOutputFormat.java:283)\n\tat org.apache.spark.sql.execution.datasources.parquet.ParquetOutputWriter.<init>(ParquetOutputWriter.scala:37)\n\tat org.apache.spark.sql.execution.datasources.parquet.ParquetFileFormat$$anon$1.newInstance(ParquetFileFormat.scala:149)\n\tat org.apache.spark.sql.execution.datasources.FileFormatWriter$SingleDirectoryWriteTask.<init>(FileFormatWriter.scala:234)\n\tat org.apache.spark.sql.execution.datasources.FileFormatWriter$.org$apache$spark$sql$execution$datasources$FileFormatWriter$$executeTask(FileFormatWriter.scala:182)\n\tat org.apache.spark.sql.execution.datasources.FileFormatWriter$$anonfun$write$1$$anonfun$3.apply(FileFormatWriter.scala:129)\n\tat org.apache.spark.sql.execution.datasources.FileFormatWriter$$anonfun$write$1$$anonfun$3.apply(FileFormatWriter.scala:128)\n\tat org.apache.spark.scheduler.ResultTask.runTask(ResultTask.scala:87)\n\tat org.apache.spark.scheduler.Task.run(Task.scala:99)\n\tat org.apache.spark.executor.Executor$TaskRunner.run(Executor.scala:322)\n\tat java.util.concurrent.ThreadPoolExecutor.runWorker(ThreadPoolExecutor.java:1142)\n\tat java.util.concurrent.ThreadPoolExecutor$Worker.run(ThreadPoolExecutor.java:617)\n\tat java.lang.Thread.run(Thread.java:748)\n\nDriver stacktrace:\n\tat org.apache.spark.scheduler.DAGScheduler.org$apache$spark$scheduler$DAGScheduler$$failJobAndIndependentStages(DAGScheduler.scala:1435)\n\tat org.apache.spark.scheduler.DAGScheduler$$anonfun$abortStage$1.apply(DAGScheduler.scala:1423)\n\tat org.apache.spark.scheduler.DAGScheduler$$anonfun$abortStage$1.apply(DAGScheduler.scala:1422)\n\tat scala.collection.mutable.ResizableArray$class.foreach(ResizableArray.scala:59)\n\tat scala.collection.mutable.ArrayBuffer.foreach(ArrayBuffer.scala:48)\n\tat org.apache.spark.scheduler.DAGScheduler.abortStage(DAGScheduler.scala:1422)\n\tat org.apache.spark.scheduler.DAGScheduler$$anonfun$handleTaskSetFailed$1.apply(DAGScheduler.scala:802)\n\tat org.apache.spark.scheduler.DAGScheduler$$anonfun$handleTaskSetFailed$1.apply(DAGScheduler.scala:802)\n\tat scala.Option.foreach(Option.scala:257)\n\tat org.apache.spark.scheduler.DAGScheduler.handleTaskSetFailed(DAGScheduler.scala:802)\n\tat org.apache.spark.scheduler.DAGSchedulerEventProcessLoop.doOnReceive(DAGScheduler.scala:1650)\n\tat org.apache.spark.scheduler.DAGSchedulerEventProcessLoop.onReceive(DAGScheduler.scala:1605)\n\tat org.apache.spark.scheduler.DAGSchedulerEventProcessLoop.onReceive(DAGScheduler.scala:1594)\n\tat org.apache.spark.util.EventLoop$$anon$1.run(EventLoop.scala:48)\n\tat org.apache.spark.scheduler.DAGScheduler.runJob(DAGScheduler.scala:628)\n\tat org.apache.spark.SparkContext.runJob(SparkContext.scala:1925)\n\tat org.apache.spark.SparkContext.runJob(SparkContext.scala:1938)\n\tat org.apache.spark.SparkContext.runJob(SparkContext.scala:1958)\n\tat org.apache.spark.sql.execution.datasources.FileFormatWriter$$anonfun$write$1.apply$mcV$sp(FileFormatWriter.scala:127)\n\t... 43 more\nCaused by: java.io.IOException: Mkdirs failed to create file:/Users/clairevignon/DataScience/NYC_DSA/project4_capstone/capstone_project/spark/spark-warehouse/test_table/_temporary/0/_temporary/attempt_20170617195923_0024_m_000000_0 (exists=false, cwd=file:/Users/yogadude/capstone_project/Spark)\n\tat org.apache.hadoop.fs.ChecksumFileSystem.create(ChecksumFileSystem.java:455)\n\tat org.apache.hadoop.fs.ChecksumFileSystem.create(ChecksumFileSystem.java:440)\n\tat org.apache.hadoop.fs.FileSystem.create(FileSystem.java:911)\n\tat org.apache.hadoop.fs.FileSystem.create(FileSystem.java:892)\n\tat org.apache.hadoop.fs.FileSystem.create(FileSystem.java:789)\n\tat org.apache.parquet.hadoop.ParquetFileWriter.<init>(ParquetFileWriter.java:223)\n\tat org.apache.parquet.hadoop.ParquetOutputFormat.getRecordWriter(ParquetOutputFormat.java:312)\n\tat org.apache.parquet.hadoop.ParquetOutputFormat.getRecordWriter(ParquetOutputFormat.java:283)\n\tat org.apache.spark.sql.execution.datasources.parquet.ParquetOutputWriter.<init>(ParquetOutputWriter.scala:37)\n\tat org.apache.spark.sql.execution.datasources.parquet.ParquetFileFormat$$anon$1.newInstance(ParquetFileFormat.scala:149)\n\tat org.apache.spark.sql.execution.datasources.FileFormatWriter$SingleDirectoryWriteTask.<init>(FileFormatWriter.scala:234)\n\tat org.apache.spark.sql.execution.datasources.FileFormatWriter$.org$apache$spark$sql$execution$datasources$FileFormatWriter$$executeTask(FileFormatWriter.scala:182)\n\tat org.apache.spark.sql.execution.datasources.FileFormatWriter$$anonfun$write$1$$anonfun$3.apply(FileFormatWriter.scala:129)\n\tat org.apache.spark.sql.execution.datasources.FileFormatWriter$$anonfun$write$1$$anonfun$3.apply(FileFormatWriter.scala:128)\n\tat org.apache.spark.scheduler.ResultTask.runTask(ResultTask.scala:87)\n\tat org.apache.spark.scheduler.Task.run(Task.scala:99)\n\tat org.apache.spark.executor.Executor$TaskRunner.run(Executor.scala:322)\n\tat java.util.concurrent.ThreadPoolExecutor.runWorker(ThreadPoolExecutor.java:1142)\n\tat java.util.concurrent.ThreadPoolExecutor$Worker.run(ThreadPoolExecutor.java:617)\n\t... 1 more\n",
     "traceback": [
      "\u001b[0;31m---------------------------------------------------------------------------\u001b[0m",
      "\u001b[0;31mPy4JJavaError\u001b[0m                             Traceback (most recent call last)",
      "\u001b[0;32m<ipython-input-38-657f23ba7ade>\u001b[0m in \u001b[0;36m<module>\u001b[0;34m()\u001b[0m\n\u001b[0;32m----> 1\u001b[0;31m \u001b[0mdf_writer\u001b[0m\u001b[0;34m.\u001b[0m\u001b[0msaveAsTable\u001b[0m\u001b[0;34m(\u001b[0m\u001b[0;34m'test_table'\u001b[0m\u001b[0;34m,\u001b[0m \u001b[0mmode\u001b[0m\u001b[0;34m=\u001b[0m\u001b[0;34m'overwrite'\u001b[0m\u001b[0;34m)\u001b[0m\u001b[0;34m\u001b[0m\u001b[0m\n\u001b[0m",
      "\u001b[0;32m/Users/yogadude/spark-2.1.1-bin-hadoop2.7/python/pyspark/sql/readwriter.pyc\u001b[0m in \u001b[0;36msaveAsTable\u001b[0;34m(self, name, format, mode, partitionBy, **options)\u001b[0m\n\u001b[1;32m    586\u001b[0m         \u001b[0;32mif\u001b[0m \u001b[0mformat\u001b[0m \u001b[0;32mis\u001b[0m \u001b[0;32mnot\u001b[0m \u001b[0mNone\u001b[0m\u001b[0;34m:\u001b[0m\u001b[0;34m\u001b[0m\u001b[0m\n\u001b[1;32m    587\u001b[0m             \u001b[0mself\u001b[0m\u001b[0;34m.\u001b[0m\u001b[0mformat\u001b[0m\u001b[0;34m(\u001b[0m\u001b[0mformat\u001b[0m\u001b[0;34m)\u001b[0m\u001b[0;34m\u001b[0m\u001b[0m\n\u001b[0;32m--> 588\u001b[0;31m         \u001b[0mself\u001b[0m\u001b[0;34m.\u001b[0m\u001b[0m_jwrite\u001b[0m\u001b[0;34m.\u001b[0m\u001b[0msaveAsTable\u001b[0m\u001b[0;34m(\u001b[0m\u001b[0mname\u001b[0m\u001b[0;34m)\u001b[0m\u001b[0;34m\u001b[0m\u001b[0m\n\u001b[0m\u001b[1;32m    589\u001b[0m \u001b[0;34m\u001b[0m\u001b[0m\n\u001b[1;32m    590\u001b[0m     \u001b[0;34m@\u001b[0m\u001b[0msince\u001b[0m\u001b[0;34m(\u001b[0m\u001b[0;36m1.4\u001b[0m\u001b[0;34m)\u001b[0m\u001b[0;34m\u001b[0m\u001b[0m\n",
      "\u001b[0;32m/Users/yogadude/spark-2.1.1-bin-hadoop2.7/python/lib/py4j-0.10.4-src.zip/py4j/java_gateway.py\u001b[0m in \u001b[0;36m__call__\u001b[0;34m(self, *args)\u001b[0m\n\u001b[1;32m   1131\u001b[0m         \u001b[0manswer\u001b[0m \u001b[0;34m=\u001b[0m \u001b[0mself\u001b[0m\u001b[0;34m.\u001b[0m\u001b[0mgateway_client\u001b[0m\u001b[0;34m.\u001b[0m\u001b[0msend_command\u001b[0m\u001b[0;34m(\u001b[0m\u001b[0mcommand\u001b[0m\u001b[0;34m)\u001b[0m\u001b[0;34m\u001b[0m\u001b[0m\n\u001b[1;32m   1132\u001b[0m         return_value = get_return_value(\n\u001b[0;32m-> 1133\u001b[0;31m             answer, self.gateway_client, self.target_id, self.name)\n\u001b[0m\u001b[1;32m   1134\u001b[0m \u001b[0;34m\u001b[0m\u001b[0m\n\u001b[1;32m   1135\u001b[0m         \u001b[0;32mfor\u001b[0m \u001b[0mtemp_arg\u001b[0m \u001b[0;32min\u001b[0m \u001b[0mtemp_args\u001b[0m\u001b[0;34m:\u001b[0m\u001b[0;34m\u001b[0m\u001b[0m\n",
      "\u001b[0;32m/Users/yogadude/spark-2.1.1-bin-hadoop2.7/python/pyspark/sql/utils.pyc\u001b[0m in \u001b[0;36mdeco\u001b[0;34m(*a, **kw)\u001b[0m\n\u001b[1;32m     61\u001b[0m     \u001b[0;32mdef\u001b[0m \u001b[0mdeco\u001b[0m\u001b[0;34m(\u001b[0m\u001b[0;34m*\u001b[0m\u001b[0ma\u001b[0m\u001b[0;34m,\u001b[0m \u001b[0;34m**\u001b[0m\u001b[0mkw\u001b[0m\u001b[0;34m)\u001b[0m\u001b[0;34m:\u001b[0m\u001b[0;34m\u001b[0m\u001b[0m\n\u001b[1;32m     62\u001b[0m         \u001b[0;32mtry\u001b[0m\u001b[0;34m:\u001b[0m\u001b[0;34m\u001b[0m\u001b[0m\n\u001b[0;32m---> 63\u001b[0;31m             \u001b[0;32mreturn\u001b[0m \u001b[0mf\u001b[0m\u001b[0;34m(\u001b[0m\u001b[0;34m*\u001b[0m\u001b[0ma\u001b[0m\u001b[0;34m,\u001b[0m \u001b[0;34m**\u001b[0m\u001b[0mkw\u001b[0m\u001b[0;34m)\u001b[0m\u001b[0;34m\u001b[0m\u001b[0m\n\u001b[0m\u001b[1;32m     64\u001b[0m         \u001b[0;32mexcept\u001b[0m \u001b[0mpy4j\u001b[0m\u001b[0;34m.\u001b[0m\u001b[0mprotocol\u001b[0m\u001b[0;34m.\u001b[0m\u001b[0mPy4JJavaError\u001b[0m \u001b[0;32mas\u001b[0m \u001b[0me\u001b[0m\u001b[0;34m:\u001b[0m\u001b[0;34m\u001b[0m\u001b[0m\n\u001b[1;32m     65\u001b[0m             \u001b[0ms\u001b[0m \u001b[0;34m=\u001b[0m \u001b[0me\u001b[0m\u001b[0;34m.\u001b[0m\u001b[0mjava_exception\u001b[0m\u001b[0;34m.\u001b[0m\u001b[0mtoString\u001b[0m\u001b[0;34m(\u001b[0m\u001b[0;34m)\u001b[0m\u001b[0;34m\u001b[0m\u001b[0m\n",
      "\u001b[0;32m/Users/yogadude/spark-2.1.1-bin-hadoop2.7/python/lib/py4j-0.10.4-src.zip/py4j/protocol.py\u001b[0m in \u001b[0;36mget_return_value\u001b[0;34m(answer, gateway_client, target_id, name)\u001b[0m\n\u001b[1;32m    317\u001b[0m                 raise Py4JJavaError(\n\u001b[1;32m    318\u001b[0m                     \u001b[0;34m\"An error occurred while calling {0}{1}{2}.\\n\"\u001b[0m\u001b[0;34m.\u001b[0m\u001b[0;34m\u001b[0m\u001b[0m\n\u001b[0;32m--> 319\u001b[0;31m                     format(target_id, \".\", name), value)\n\u001b[0m\u001b[1;32m    320\u001b[0m             \u001b[0;32melse\u001b[0m\u001b[0;34m:\u001b[0m\u001b[0;34m\u001b[0m\u001b[0m\n\u001b[1;32m    321\u001b[0m                 raise Py4JError(\n",
      "\u001b[0;31mPy4JJavaError\u001b[0m: An error occurred while calling o833.saveAsTable.\n: org.apache.spark.SparkException: Job aborted.\n\tat org.apache.spark.sql.execution.datasources.FileFormatWriter$$anonfun$write$1.apply$mcV$sp(FileFormatWriter.scala:147)\n\tat org.apache.spark.sql.execution.datasources.FileFormatWriter$$anonfun$write$1.apply(FileFormatWriter.scala:121)\n\tat org.apache.spark.sql.execution.datasources.FileFormatWriter$$anonfun$write$1.apply(FileFormatWriter.scala:121)\n\tat org.apache.spark.sql.execution.SQLExecution$.withNewExecutionId(SQLExecution.scala:57)\n\tat org.apache.spark.sql.execution.datasources.FileFormatWriter$.write(FileFormatWriter.scala:121)\n\tat org.apache.spark.sql.execution.datasources.InsertIntoHadoopFsRelationCommand.run(InsertIntoHadoopFsRelationCommand.scala:101)\n\tat org.apache.spark.sql.execution.command.ExecutedCommandExec.sideEffectResult$lzycompute(commands.scala:58)\n\tat org.apache.spark.sql.execution.command.ExecutedCommandExec.sideEffectResult(commands.scala:56)\n\tat org.apache.spark.sql.execution.command.ExecutedCommandExec.doExecute(commands.scala:74)\n\tat org.apache.spark.sql.execution.SparkPlan$$anonfun$execute$1.apply(SparkPlan.scala:114)\n\tat org.apache.spark.sql.execution.SparkPlan$$anonfun$execute$1.apply(SparkPlan.scala:114)\n\tat org.apache.spark.sql.execution.SparkPlan$$anonfun$executeQuery$1.apply(SparkPlan.scala:135)\n\tat org.apache.spark.rdd.RDDOperationScope$.withScope(RDDOperationScope.scala:151)\n\tat org.apache.spark.sql.execution.SparkPlan.executeQuery(SparkPlan.scala:132)\n\tat org.apache.spark.sql.execution.SparkPlan.execute(SparkPlan.scala:113)\n\tat org.apache.spark.sql.execution.QueryExecution.toRdd$lzycompute(QueryExecution.scala:92)\n\tat org.apache.spark.sql.execution.QueryExecution.toRdd(QueryExecution.scala:92)\n\tat org.apache.spark.sql.execution.datasources.DataSource.writeInFileFormat(DataSource.scala:484)\n\tat org.apache.spark.sql.execution.datasources.DataSource.writeAndRead(DataSource.scala:500)\n\tat org.apache.spark.sql.execution.command.CreateDataSourceTableAsSelectCommand.run(createDataSourceTables.scala:263)\n\tat org.apache.spark.sql.execution.command.ExecutedCommandExec.sideEffectResult$lzycompute(commands.scala:58)\n\tat org.apache.spark.sql.execution.command.ExecutedCommandExec.sideEffectResult(commands.scala:56)\n\tat org.apache.spark.sql.execution.command.ExecutedCommandExec.doExecute(commands.scala:74)\n\tat org.apache.spark.sql.execution.SparkPlan$$anonfun$execute$1.apply(SparkPlan.scala:114)\n\tat org.apache.spark.sql.execution.SparkPlan$$anonfun$execute$1.apply(SparkPlan.scala:114)\n\tat org.apache.spark.sql.execution.SparkPlan$$anonfun$executeQuery$1.apply(SparkPlan.scala:135)\n\tat org.apache.spark.rdd.RDDOperationScope$.withScope(RDDOperationScope.scala:151)\n\tat org.apache.spark.sql.execution.SparkPlan.executeQuery(SparkPlan.scala:132)\n\tat org.apache.spark.sql.execution.SparkPlan.execute(SparkPlan.scala:113)\n\tat org.apache.spark.sql.execution.QueryExecution.toRdd$lzycompute(QueryExecution.scala:92)\n\tat org.apache.spark.sql.execution.QueryExecution.toRdd(QueryExecution.scala:92)\n\tat org.apache.spark.sql.DataFrameWriter.saveAsTable(DataFrameWriter.scala:404)\n\tat org.apache.spark.sql.DataFrameWriter.saveAsTable(DataFrameWriter.scala:358)\n\tat sun.reflect.NativeMethodAccessorImpl.invoke0(Native Method)\n\tat sun.reflect.NativeMethodAccessorImpl.invoke(NativeMethodAccessorImpl.java:62)\n\tat sun.reflect.DelegatingMethodAccessorImpl.invoke(DelegatingMethodAccessorImpl.java:43)\n\tat java.lang.reflect.Method.invoke(Method.java:498)\n\tat py4j.reflection.MethodInvoker.invoke(MethodInvoker.java:244)\n\tat py4j.reflection.ReflectionEngine.invoke(ReflectionEngine.java:357)\n\tat py4j.Gateway.invoke(Gateway.java:280)\n\tat py4j.commands.AbstractCommand.invokeMethod(AbstractCommand.java:132)\n\tat py4j.commands.CallCommand.execute(CallCommand.java:79)\n\tat py4j.GatewayConnection.run(GatewayConnection.java:214)\n\tat java.lang.Thread.run(Thread.java:748)\nCaused by: org.apache.spark.SparkException: Job aborted due to stage failure: Task 0 in stage 24.0 failed 1 times, most recent failure: Lost task 0.0 in stage 24.0 (TID 182, localhost, executor driver): java.io.IOException: Mkdirs failed to create file:/Users/clairevignon/DataScience/NYC_DSA/project4_capstone/capstone_project/spark/spark-warehouse/test_table/_temporary/0/_temporary/attempt_20170617195923_0024_m_000000_0 (exists=false, cwd=file:/Users/yogadude/capstone_project/Spark)\n\tat org.apache.hadoop.fs.ChecksumFileSystem.create(ChecksumFileSystem.java:455)\n\tat org.apache.hadoop.fs.ChecksumFileSystem.create(ChecksumFileSystem.java:440)\n\tat org.apache.hadoop.fs.FileSystem.create(FileSystem.java:911)\n\tat org.apache.hadoop.fs.FileSystem.create(FileSystem.java:892)\n\tat org.apache.hadoop.fs.FileSystem.create(FileSystem.java:789)\n\tat org.apache.parquet.hadoop.ParquetFileWriter.<init>(ParquetFileWriter.java:223)\n\tat org.apache.parquet.hadoop.ParquetOutputFormat.getRecordWriter(ParquetOutputFormat.java:312)\n\tat org.apache.parquet.hadoop.ParquetOutputFormat.getRecordWriter(ParquetOutputFormat.java:283)\n\tat org.apache.spark.sql.execution.datasources.parquet.ParquetOutputWriter.<init>(ParquetOutputWriter.scala:37)\n\tat org.apache.spark.sql.execution.datasources.parquet.ParquetFileFormat$$anon$1.newInstance(ParquetFileFormat.scala:149)\n\tat org.apache.spark.sql.execution.datasources.FileFormatWriter$SingleDirectoryWriteTask.<init>(FileFormatWriter.scala:234)\n\tat org.apache.spark.sql.execution.datasources.FileFormatWriter$.org$apache$spark$sql$execution$datasources$FileFormatWriter$$executeTask(FileFormatWriter.scala:182)\n\tat org.apache.spark.sql.execution.datasources.FileFormatWriter$$anonfun$write$1$$anonfun$3.apply(FileFormatWriter.scala:129)\n\tat org.apache.spark.sql.execution.datasources.FileFormatWriter$$anonfun$write$1$$anonfun$3.apply(FileFormatWriter.scala:128)\n\tat org.apache.spark.scheduler.ResultTask.runTask(ResultTask.scala:87)\n\tat org.apache.spark.scheduler.Task.run(Task.scala:99)\n\tat org.apache.spark.executor.Executor$TaskRunner.run(Executor.scala:322)\n\tat java.util.concurrent.ThreadPoolExecutor.runWorker(ThreadPoolExecutor.java:1142)\n\tat java.util.concurrent.ThreadPoolExecutor$Worker.run(ThreadPoolExecutor.java:617)\n\tat java.lang.Thread.run(Thread.java:748)\n\nDriver stacktrace:\n\tat org.apache.spark.scheduler.DAGScheduler.org$apache$spark$scheduler$DAGScheduler$$failJobAndIndependentStages(DAGScheduler.scala:1435)\n\tat org.apache.spark.scheduler.DAGScheduler$$anonfun$abortStage$1.apply(DAGScheduler.scala:1423)\n\tat org.apache.spark.scheduler.DAGScheduler$$anonfun$abortStage$1.apply(DAGScheduler.scala:1422)\n\tat scala.collection.mutable.ResizableArray$class.foreach(ResizableArray.scala:59)\n\tat scala.collection.mutable.ArrayBuffer.foreach(ArrayBuffer.scala:48)\n\tat org.apache.spark.scheduler.DAGScheduler.abortStage(DAGScheduler.scala:1422)\n\tat org.apache.spark.scheduler.DAGScheduler$$anonfun$handleTaskSetFailed$1.apply(DAGScheduler.scala:802)\n\tat org.apache.spark.scheduler.DAGScheduler$$anonfun$handleTaskSetFailed$1.apply(DAGScheduler.scala:802)\n\tat scala.Option.foreach(Option.scala:257)\n\tat org.apache.spark.scheduler.DAGScheduler.handleTaskSetFailed(DAGScheduler.scala:802)\n\tat org.apache.spark.scheduler.DAGSchedulerEventProcessLoop.doOnReceive(DAGScheduler.scala:1650)\n\tat org.apache.spark.scheduler.DAGSchedulerEventProcessLoop.onReceive(DAGScheduler.scala:1605)\n\tat org.apache.spark.scheduler.DAGSchedulerEventProcessLoop.onReceive(DAGScheduler.scala:1594)\n\tat org.apache.spark.util.EventLoop$$anon$1.run(EventLoop.scala:48)\n\tat org.apache.spark.scheduler.DAGScheduler.runJob(DAGScheduler.scala:628)\n\tat org.apache.spark.SparkContext.runJob(SparkContext.scala:1925)\n\tat org.apache.spark.SparkContext.runJob(SparkContext.scala:1938)\n\tat org.apache.spark.SparkContext.runJob(SparkContext.scala:1958)\n\tat org.apache.spark.sql.execution.datasources.FileFormatWriter$$anonfun$write$1.apply$mcV$sp(FileFormatWriter.scala:127)\n\t... 43 more\nCaused by: java.io.IOException: Mkdirs failed to create file:/Users/clairevignon/DataScience/NYC_DSA/project4_capstone/capstone_project/spark/spark-warehouse/test_table/_temporary/0/_temporary/attempt_20170617195923_0024_m_000000_0 (exists=false, cwd=file:/Users/yogadude/capstone_project/Spark)\n\tat org.apache.hadoop.fs.ChecksumFileSystem.create(ChecksumFileSystem.java:455)\n\tat org.apache.hadoop.fs.ChecksumFileSystem.create(ChecksumFileSystem.java:440)\n\tat org.apache.hadoop.fs.FileSystem.create(FileSystem.java:911)\n\tat org.apache.hadoop.fs.FileSystem.create(FileSystem.java:892)\n\tat org.apache.hadoop.fs.FileSystem.create(FileSystem.java:789)\n\tat org.apache.parquet.hadoop.ParquetFileWriter.<init>(ParquetFileWriter.java:223)\n\tat org.apache.parquet.hadoop.ParquetOutputFormat.getRecordWriter(ParquetOutputFormat.java:312)\n\tat org.apache.parquet.hadoop.ParquetOutputFormat.getRecordWriter(ParquetOutputFormat.java:283)\n\tat org.apache.spark.sql.execution.datasources.parquet.ParquetOutputWriter.<init>(ParquetOutputWriter.scala:37)\n\tat org.apache.spark.sql.execution.datasources.parquet.ParquetFileFormat$$anon$1.newInstance(ParquetFileFormat.scala:149)\n\tat org.apache.spark.sql.execution.datasources.FileFormatWriter$SingleDirectoryWriteTask.<init>(FileFormatWriter.scala:234)\n\tat org.apache.spark.sql.execution.datasources.FileFormatWriter$.org$apache$spark$sql$execution$datasources$FileFormatWriter$$executeTask(FileFormatWriter.scala:182)\n\tat org.apache.spark.sql.execution.datasources.FileFormatWriter$$anonfun$write$1$$anonfun$3.apply(FileFormatWriter.scala:129)\n\tat org.apache.spark.sql.execution.datasources.FileFormatWriter$$anonfun$write$1$$anonfun$3.apply(FileFormatWriter.scala:128)\n\tat org.apache.spark.scheduler.ResultTask.runTask(ResultTask.scala:87)\n\tat org.apache.spark.scheduler.Task.run(Task.scala:99)\n\tat org.apache.spark.executor.Executor$TaskRunner.run(Executor.scala:322)\n\tat java.util.concurrent.ThreadPoolExecutor.runWorker(ThreadPoolExecutor.java:1142)\n\tat java.util.concurrent.ThreadPoolExecutor$Worker.run(ThreadPoolExecutor.java:617)\n\t... 1 more\n"
     ],
     "output_type": "error"
    }
   ],
   "source": [
    "df_writer.saveAsTable('test_table', mode='overwrite')"
   ]
  },
  {
   "cell_type": "code",
   "execution_count": null,
   "metadata": {
    "collapsed": true
   },
   "outputs": [],
   "source": [
    ""
   ]
  }
 ],
 "metadata": {
  "anaconda-cloud": {},
  "kernelspec": {
   "display_name": "Python [conda root]",
   "language": "python",
   "name": "conda-root-py"
  }
 },
 "nbformat": 4,
 "nbformat_minor": 0
}